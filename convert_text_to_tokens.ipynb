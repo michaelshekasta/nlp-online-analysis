{
 "cells": [
  {
   "cell_type": "code",
   "execution_count": 1,
   "metadata": {},
   "outputs": [],
   "source": [
    "import pandas as pd"
   ]
  },
  {
   "cell_type": "code",
   "execution_count": 2,
   "metadata": {},
   "outputs": [],
   "source": [
    "file_type = 'thread'\n",
    "field_name = 'title'"
   ]
  },
  {
   "cell_type": "code",
   "execution_count": 3,
   "metadata": {},
   "outputs": [],
   "source": [
    "df = pd.read_csv(f'{file_type}_with_yap.csv')"
   ]
  },
  {
   "cell_type": "code",
   "execution_count": 4,
   "metadata": {},
   "outputs": [],
   "source": [
    "df_err = df.loc[df[f'{field_name}_dict'].str.contains('error')]"
   ]
  },
  {
   "cell_type": "code",
   "execution_count": 5,
   "metadata": {},
   "outputs": [
    {
     "name": "stdout",
     "output_type": "stream",
     "text": [
      "ratio of errors 0.0\n"
     ]
    }
   ],
   "source": [
    "ratio = float(df_err.shape[0]) / df.shape[0]\n",
    "print(f'ratio of errors {ratio}')"
   ]
  },
  {
   "cell_type": "code",
   "execution_count": 6,
   "metadata": {},
   "outputs": [],
   "source": [
    "df = df.loc[~df[f'{field_name}_dict'].str.contains('error')]"
   ]
  },
  {
   "cell_type": "code",
   "execution_count": 7,
   "metadata": {},
   "outputs": [],
   "source": [
    "def get_tokenized_from_md_lattice(md_lattice_text,use_lemma=True,keep_only_NN=False):\n",
    "    tokens = list()\n",
    "    token_blocks = md_lattice_text.split('\\n')\n",
    "    for token_block in token_blocks:\n",
    "        token_block_parts = token_block.split('\\t')\n",
    "        if len(token_block_parts) > 2:\n",
    "            if keep_only_NN and token_block_parts[4] != 'NN':\n",
    "                continue\n",
    "            if use_lemma:\n",
    "                tokens.append(token_block_parts[2])\n",
    "            else:\n",
    "                tokens.append(token_block_parts[3])\n",
    "    return tokens"
   ]
  },
  {
   "cell_type": "code",
   "execution_count": 8,
   "metadata": {},
   "outputs": [],
   "source": [
    "def replace_words_rule(token_list):\n",
    "    new_token_list = list()\n",
    "    replace_words_source = []\n",
    "    replace_words_target= []\n",
    "    for token in token_list:\n",
    "        new_token = token\n",
    "        try:\n",
    "            new_token = replace_words_target[replace_words_source.index(token)]\n",
    "        except:\n",
    "            pass\n",
    "        new_token_list.append(new_token)\n",
    "    reutnr "
   ]
  },
  {
   "cell_type": "code",
   "execution_count": 9,
   "metadata": {},
   "outputs": [],
   "source": [
    "def remove_speical_signs(token_list):\n",
    "    new_token_list = list()\n",
    "    sign_list = [',','?','!','.']\n",
    "    for token in token_list:\n",
    "        new_token = token\n",
    "        for sign in sign_list:\n",
    "            new_token = new_token.replace(sign,'')\n",
    "        new_token_list.append(new_token)\n",
    "    return new_token_list"
   ]
  },
  {
   "cell_type": "code",
   "execution_count": 10,
   "metadata": {},
   "outputs": [],
   "source": [
    "def group_tokens_by_list_help(token_list,word_list,gram_size):\n",
    "    new_token_list = list()\n",
    "    token_index = 0\n",
    "    while token_index < len(token_list) - gram_size +1:\n",
    "        first_token = token_list[token_index]\n",
    "        indices = [i for i, x in enumerate(word_list[0]) if x == first_token]\n",
    "        find_one_match = False\n",
    "        for first_token_index in indices:\n",
    "            match = True\n",
    "            for i in range(gram_size):\n",
    "                if word_list[i][first_token_index] != token_list[token_index+i]:\n",
    "                    match = False\n",
    "                    break\n",
    "            if match:\n",
    "                find_one_match = True\n",
    "                new_token = ''\n",
    "                for i in range(gram_size -1 ):\n",
    "                    new_token += word_list[i][first_token_index]\n",
    "                    new_token += ' '\n",
    "                new_token += word_list[-1][first_token_index]\n",
    "                new_token_list.append(new_token)\n",
    "                token_index += gram_size\n",
    "        if not find_one_match:\n",
    "            new_token_list.append(first_token)\n",
    "            token_index += 1\n",
    "    while token_index < len(token_list):\n",
    "        new_token_list.append(token_list[token_index])\n",
    "        token_index += 1\n",
    "    return new_token_list"
   ]
  },
  {
   "cell_type": "code",
   "execution_count": 11,
   "metadata": {},
   "outputs": [],
   "source": [
    "def convert_from_phrases_list_word_dict(phrases_list):\n",
    "    word_lists_dict = dict()\n",
    "    for phrase in phrases_list:\n",
    "        phrases_words = phrase.split(' ')\n",
    "        phrase_len = len(phrases_words)\n",
    "        if not phrase_len in word_lists_dict:\n",
    "            word_lists_dict[phrase_len] = list()\n",
    "            for i in phrase_len:\n",
    "                word_lists_dict.append(list())\n",
    "        for i in phrase_len:\n",
    "            word_lists_dict[phrase_len][i].append(phrases_words[i])\n",
    "    return word_lists_dict"
   ]
  },
  {
   "cell_type": "code",
   "execution_count": 12,
   "metadata": {},
   "outputs": [],
   "source": [
    "##Creating a list of stop words and adding custom stopwords\n",
    "import codecs\n",
    "with codecs.open('phrases.txt', 'r', encoding='utf8') as f:\n",
    "    text = f.read()\n",
    "phrases_list = set(word for word in text.split('\\r\\n'))"
   ]
  },
  {
   "cell_type": "code",
   "execution_count": 13,
   "metadata": {},
   "outputs": [],
   "source": [
    "def group_tokens_by_list(token_list,word_lists_dict):\n",
    "    gram_sizes = sorted(word_lists.keys, reverse=True)\n",
    "    for gram_size in gram_sizes:\n",
    "        token_list = group_tokens_by_list_help(token_list,word_lists_dict[gram_size],gram_size)\n",
    "    return token_list  "
   ]
  },
  {
   "cell_type": "code",
   "execution_count": 14,
   "metadata": {},
   "outputs": [],
   "source": [
    "def apply_custom_rules(token_list):\n",
    "    return token_list"
   ]
  },
  {
   "cell_type": "code",
   "execution_count": 15,
   "metadata": {},
   "outputs": [],
   "source": [
    "df['token_set'] = df[f'{field_name}_dict'].apply(lambda x: apply_custom_rules(get_tokenized_from_md_lattice(eval(x)['md_lattice'])),False,False)"
   ]
  },
  {
   "cell_type": "code",
   "execution_count": 16,
   "metadata": {},
   "outputs": [
    {
     "data": {
      "text/html": [
       "<div>\n",
       "<style scoped>\n",
       "    .dataframe tbody tr th:only-of-type {\n",
       "        vertical-align: middle;\n",
       "    }\n",
       "\n",
       "    .dataframe tbody tr th {\n",
       "        vertical-align: top;\n",
       "    }\n",
       "\n",
       "    .dataframe thead th {\n",
       "        text-align: right;\n",
       "    }\n",
       "</style>\n",
       "<table border=\"1\" class=\"dataframe\">\n",
       "  <thead>\n",
       "    <tr style=\"text-align: right;\">\n",
       "      <th></th>\n",
       "      <th>Unnamed: 0</th>\n",
       "      <th>Unnamed: 0.1</th>\n",
       "      <th>thread_id</th>\n",
       "      <th>title</th>\n",
       "      <th>type</th>\n",
       "      <th>title_dict</th>\n",
       "      <th>token_set</th>\n",
       "    </tr>\n",
       "  </thead>\n",
       "  <tbody>\n",
       "    <tr>\n",
       "      <th>0</th>\n",
       "      <td>0</td>\n",
       "      <td>0</td>\n",
       "      <td>20216916</td>\n",
       "      <td>עמותות בצל משבר הקורונה - בואו להתעניין, להיעז...</td>\n",
       "      <td>NaN</td>\n",
       "      <td>{'ma_lattice': '0\\t1\\tעמותות\\tעמותה\\tNNT\\tNNT\\...</td>\n",
       "      <td>[עמותות, ב, צל, משבר, ה, קורונה, -, ב, ה, ואו,...</td>\n",
       "    </tr>\n",
       "    <tr>\n",
       "      <th>1</th>\n",
       "      <td>1</td>\n",
       "      <td>0</td>\n",
       "      <td>20289621</td>\n",
       "      <td>שיבוץ לתפקיד שאני לא רוצה - FXP</td>\n",
       "      <td>NaN</td>\n",
       "      <td>{'ma_lattice': '0\\t1\\tשיבוץ\\tשיבוץ\\tNNT\\tNNT\\t...</td>\n",
       "      <td>[שיבוץ, ל, ה, תפקיד, ש, אני, לא, רוצה]</td>\n",
       "    </tr>\n",
       "    <tr>\n",
       "      <th>2</th>\n",
       "      <td>2</td>\n",
       "      <td>0</td>\n",
       "      <td>19881195</td>\n",
       "      <td>דרושים מנהלים לפורום צבא וביטחון! - FXP</td>\n",
       "      <td>NaN</td>\n",
       "      <td>{'ma_lattice': '0\\t1\\tדרושים\\tדרש\\tBN\\tBN\\tgen...</td>\n",
       "      <td>[דרושים, מנהלים, ל, פורום, צבא, ו, ב, ה, יטחון!]</td>\n",
       "    </tr>\n",
       "    <tr>\n",
       "      <th>3</th>\n",
       "      <td>3</td>\n",
       "      <td>0</td>\n",
       "      <td>19801135</td>\n",
       "      <td>השימושון של פורום צבא וביטחון - FXP</td>\n",
       "      <td>NaN</td>\n",
       "      <td>{'ma_lattice': '0\\t1\\tה\\tה\\tDEF\\tDEF\\t_\\t1\\n0\\...</td>\n",
       "      <td>[ה, שימושון, של, פורום, צבא, ו, ביטחון]</td>\n",
       "    </tr>\n",
       "    <tr>\n",
       "      <th>4</th>\n",
       "      <td>4</td>\n",
       "      <td>0</td>\n",
       "      <td>20246418</td>\n",
       "      <td>יום הזיכרון בFXP - פורום הנצחה והזדהות - FXP</td>\n",
       "      <td>NaN</td>\n",
       "      <td>{'ma_lattice': '0\\t1\\tיום\\tיום\\tNNT\\tNNT\\tgen=...</td>\n",
       "      <td>[יום, ה, זיכרון, ב, FXP, -, פורום, הנצחה, ו, ה...</td>\n",
       "    </tr>\n",
       "  </tbody>\n",
       "</table>\n",
       "</div>"
      ],
      "text/plain": [
       "   Unnamed: 0  Unnamed: 0.1  thread_id  \\\n",
       "0           0             0   20216916   \n",
       "1           1             0   20289621   \n",
       "2           2             0   19881195   \n",
       "3           3             0   19801135   \n",
       "4           4             0   20246418   \n",
       "\n",
       "                                               title  type  \\\n",
       "0  עמותות בצל משבר הקורונה - בואו להתעניין, להיעז...   NaN   \n",
       "1                    שיבוץ לתפקיד שאני לא רוצה - FXP   NaN   \n",
       "2            דרושים מנהלים לפורום צבא וביטחון! - FXP   NaN   \n",
       "3                השימושון של פורום צבא וביטחון - FXP   NaN   \n",
       "4       יום הזיכרון בFXP - פורום הנצחה והזדהות - FXP   NaN   \n",
       "\n",
       "                                          title_dict  \\\n",
       "0  {'ma_lattice': '0\\t1\\tעמותות\\tעמותה\\tNNT\\tNNT\\...   \n",
       "1  {'ma_lattice': '0\\t1\\tשיבוץ\\tשיבוץ\\tNNT\\tNNT\\t...   \n",
       "2  {'ma_lattice': '0\\t1\\tדרושים\\tדרש\\tBN\\tBN\\tgen...   \n",
       "3  {'ma_lattice': '0\\t1\\tה\\tה\\tDEF\\tDEF\\t_\\t1\\n0\\...   \n",
       "4  {'ma_lattice': '0\\t1\\tיום\\tיום\\tNNT\\tNNT\\tgen=...   \n",
       "\n",
       "                                           token_set  \n",
       "0  [עמותות, ב, צל, משבר, ה, קורונה, -, ב, ה, ואו,...  \n",
       "1             [שיבוץ, ל, ה, תפקיד, ש, אני, לא, רוצה]  \n",
       "2   [דרושים, מנהלים, ל, פורום, צבא, ו, ב, ה, יטחון!]  \n",
       "3            [ה, שימושון, של, פורום, צבא, ו, ביטחון]  \n",
       "4  [יום, ה, זיכרון, ב, FXP, -, פורום, הנצחה, ו, ה...  "
      ]
     },
     "execution_count": 16,
     "metadata": {},
     "output_type": "execute_result"
    }
   ],
   "source": [
    "df.head()"
   ]
  },
  {
   "cell_type": "code",
   "execution_count": 17,
   "metadata": {},
   "outputs": [
    {
     "data": {
      "text/plain": [
       "'עמותות בצל משבר הקורונה - בואו להתעניין, להיעזר או לעזור. - FXP'"
      ]
     },
     "execution_count": 17,
     "metadata": {},
     "output_type": "execute_result"
    }
   ],
   "source": [
    "df.iloc[0]['title']"
   ]
  },
  {
   "cell_type": "code",
   "execution_count": 18,
   "metadata": {},
   "outputs": [
    {
     "data": {
      "text/plain": [
       "['עמותות',\n",
       " 'ב',\n",
       " 'צל',\n",
       " 'משבר',\n",
       " 'ה',\n",
       " 'קורונה',\n",
       " '-',\n",
       " 'ב',\n",
       " 'ה',\n",
       " 'ואו',\n",
       " 'ל',\n",
       " 'ה',\n",
       " 'התעניין,',\n",
       " 'להיעזר',\n",
       " 'או',\n",
       " 'ל',\n",
       " 'ה',\n",
       " 'עזור.']"
      ]
     },
     "execution_count": 18,
     "metadata": {},
     "output_type": "execute_result"
    }
   ],
   "source": [
    "df.iloc[0]['token_set']"
   ]
  },
  {
   "cell_type": "code",
   "execution_count": 19,
   "metadata": {},
   "outputs": [
    {
     "data": {
      "text/plain": [
       "['עמותה', 'קורונה', 'התעניין,', 'עזור.']"
      ]
     },
     "execution_count": 19,
     "metadata": {},
     "output_type": "execute_result"
    }
   ],
   "source": [
    "['עמותה', 'קורונה', 'התעניין,', 'עזור.']"
   ]
  },
  {
   "cell_type": "code",
   "execution_count": 20,
   "metadata": {},
   "outputs": [
    {
     "name": "stdout",
     "output_type": "stream",
     "text": [
      "['0', '1', 'עמותות', 'עמותה', 'NN', 'NN', 'gen=F|num=P', '1']\n",
      "['1', '2', 'ב', 'ב', 'PREPOSITION', 'PREPOSITION', '_', '2']\n",
      "['2', '3', 'צל', 'צל', 'NNT', 'NNT', 'gen=M|num=S', '2']\n",
      "['3', '4', 'משבר', 'משבר', 'NNT', 'NNT', 'gen=M|num=S', '3']\n",
      "['4', '5', 'ה', 'ה', 'DEF', 'DEF', '_', '4']\n",
      "['5', '6', 'קורונה', 'קורונה', 'NN', 'NN', 'gen=M|num=S', '4']\n",
      "['6', '7', '-', '_', 'yyDASH', 'yyDASH', '_', '5']\n",
      "['7', '8', 'ב', 'ב', 'PREPOSITION', 'PREPOSITION', '_', '6']\n",
      "['8', '9', 'ה', 'ה', 'DEF', 'DEF', '_', '6']\n",
      "['9', '10', 'ואו', 'ואו', 'INTJ', 'INTJ', '_', '6']\n",
      "['10', '11', 'ל', 'ל', 'PREPOSITION', 'PREPOSITION', '_', '7']\n",
      "['11', '12', 'ה', 'ה', 'DEF', 'DEF', '_', '7']\n",
      "['12', '13', 'התעניין,', 'התעניין,', 'NN', 'NN', 'gen=M|num=P', '7']\n",
      "['13', '14', 'להיעזר', 'נעזר', 'VB', 'VB', '_', '8']\n",
      "['14', '15', 'או', 'או', 'CC', 'CC', '_', '9']\n",
      "['15', '16', 'ל', 'ל', 'PREPOSITION', 'PREPOSITION', '_', '10']\n",
      "['16', '17', 'ה', 'ה', 'DEF', 'DEF', '_', '10']\n",
      "['17', '18', 'עזור.', 'עזור.', 'NN', 'NN', 'gen=M|num=S', '10']\n",
      "['']\n",
      "['']\n"
     ]
    }
   ],
   "source": [
    "row_number = 0 \n",
    "ma_lattice_parts = eval(df.iloc[row_number]['title_dict'])['md_lattice'].split('\\n')\n",
    "for part in ma_lattice_parts:\n",
    "    print(part.split('\\t'))"
   ]
  },
  {
   "cell_type": "code",
   "execution_count": 21,
   "metadata": {},
   "outputs": [],
   "source": [
    "corpus = df['token_set'].tolist()"
   ]
  },
  {
   "cell_type": "code",
   "execution_count": 22,
   "metadata": {},
   "outputs": [],
   "source": [
    "import pickle\n",
    "with open(f'{file_type}_{field_name}_token_lists.pickle', 'wb') as handle:\n",
    "    pickle.dump(corpus, handle, protocol=pickle.HIGHEST_PROTOCOL)"
   ]
  },
  {
   "cell_type": "code",
   "execution_count": null,
   "metadata": {},
   "outputs": [],
   "source": []
  }
 ],
 "metadata": {
  "kernelspec": {
   "display_name": "Python 3",
   "language": "python",
   "name": "python3"
  },
  "language_info": {
   "codemirror_mode": {
    "name": "ipython",
    "version": 3
   },
   "file_extension": ".py",
   "mimetype": "text/x-python",
   "name": "python",
   "nbconvert_exporter": "python",
   "pygments_lexer": "ipython3",
   "version": "3.7.7"
  }
 },
 "nbformat": 4,
 "nbformat_minor": 4
}

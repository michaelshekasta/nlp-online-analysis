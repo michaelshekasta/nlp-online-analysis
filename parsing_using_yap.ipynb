{
 "cells": [
  {
   "cell_type": "code",
   "execution_count": 1,
   "metadata": {},
   "outputs": [],
   "source": [
    "import time\n",
    "import pandas as pd\n",
    "import numpy as np\n",
    "import re"
   ]
  },
  {
   "cell_type": "code",
   "execution_count": 2,
   "metadata": {},
   "outputs": [],
   "source": [
    "docker_down_str = \"/yap/src/yap/yap api\""
   ]
  },
  {
   "cell_type": "code",
   "execution_count": 3,
   "metadata": {},
   "outputs": [],
   "source": [
    "def send_email(user='dsakaidf@gmail.com', pwd='d54k4idf!', recipient='shkasta@post.bgu.ac.il',\n",
    "               subject='finish expirement', body='finish the expirement'):\n",
    "    import smtplib\n",
    "\n",
    "    gmail_user = user\n",
    "    gmail_pwd = pwd\n",
    "    FROM = user\n",
    "    TO = recipient if type(recipient) is list else [recipient]\n",
    "    SUBJECT = subject\n",
    "    TEXT = body\n",
    "\n",
    "    # Prepare actual message\n",
    "    message = \"\"\"From: %s\\nTo: %s\\nSubject: %s\\n\\n%s\n",
    "    \"\"\" % (FROM, \", \".join(TO), SUBJECT, TEXT)\n",
    "    try:\n",
    "        # SMTP_SSL Example\n",
    "        server_ssl = smtplib.SMTP_SSL(\"smtp.gmail.com\", 465)\n",
    "        server_ssl.ehlo()  # optional, called by login()\n",
    "        server_ssl.login(gmail_user, gmail_pwd)\n",
    "        # ssl server doesn't support or need tls, so don't call server_ssl.starttls()\n",
    "        server_ssl.sendmail(FROM, TO, message)\n",
    "        # server_ssl.quit()\n",
    "        server_ssl.close()\n",
    "        print('successfully sent the mail')\n",
    "    except:\n",
    "        print(\"failed to send mail\")"
   ]
  },
  {
   "cell_type": "code",
   "execution_count": 4,
   "metadata": {},
   "outputs": [],
   "source": [
    "def restart_docker():\n",
    "    try:\n",
    "        import os\n",
    "        os.system('docker run --publish 8000:8000 --detach -it name:dockerfile')\n",
    "        print('restart docker')\n",
    "        try:\n",
    "            send_email(body='finish restart docker')\n",
    "        except:\n",
    "            print('error in sending mail')\n",
    "    except:\n",
    "        print('cant restart docker')\n",
    "        raise"
   ]
  },
  {
   "cell_type": "code",
   "execution_count": 5,
   "metadata": {},
   "outputs": [],
   "source": [
    "from subprocess import PIPE, run\n",
    "def out(command):\n",
    "    result = run(command, stdout=PIPE, stderr=PIPE, universal_newlines=True, shell=True)\n",
    "    return result.stdout"
   ]
  },
  {
   "cell_type": "code",
   "execution_count": 6,
   "metadata": {},
   "outputs": [],
   "source": [
    "def check_docker():\n",
    "    output_status_docker = out('docker ps')\n",
    "    if docker_down_str in output_status_docker:\n",
    "        return True\n",
    "    else:\n",
    "        return False    "
   ]
  },
  {
   "cell_type": "code",
   "execution_count": 7,
   "metadata": {},
   "outputs": [],
   "source": [
    "def yap_parser(text, number_tries=5):\n",
    "        try:\n",
    "            import requests\n",
    "            with requests.Session() as s:\n",
    "                localhost_yap = \"http://localhost:8000/yap/heb/joint\"\n",
    "                data = '{{\"text\": \"{}  \"}}'.format(text).encode('utf-8')  # input string ends with two space characters\n",
    "                headers = {'content-type': 'application/json'}\n",
    "                response = s.get(url=localhost_yap, data=data, headers=headers)\n",
    "                json_response = response.json()\n",
    "            return json_response\n",
    "        except:\n",
    "            if number_tries > 0:\n",
    "                if check_docker():\n",
    "                    time.sleep(60)\n",
    "                else:\n",
    "                    time.sleep(5)\n",
    "                    restart_docker()\n",
    "                    time.sleep(60)\n",
    "                return yap_parser(text,number_tries-1)\n",
    "            else:\n",
    "                print('the problematic text is')\n",
    "                print(text)\n",
    "                raise"
   ]
  },
  {
   "cell_type": "code",
   "execution_count": 8,
   "metadata": {},
   "outputs": [],
   "source": [
    "file_type = 'thread'\n",
    "field_name = 'title'"
   ]
  },
  {
   "cell_type": "code",
   "execution_count": 9,
   "metadata": {},
   "outputs": [
    {
     "name": "stdout",
     "output_type": "stream",
     "text": [
      "successfully sent the mail\n"
     ]
    }
   ],
   "source": [
    "try:\n",
    "    df = pd.read_csv(f'data/{file_type}.csv')\n",
    "    df[f'{field_name}_dict'] = df[f'{field_name}'].apply(lambda x: yap_parser(re.sub('- FXP', '', x)))\n",
    "    df.to_csv(f'{file_type}_with_yap.csv')\n",
    "    send_email(body='finish yap expirement')\n",
    "except Exception as e:\n",
    "    print(e)\n",
    "    send_email(body=f'Error yap exp: \\n {e}')\n",
    "\n"
   ]
  }
 ],
 "metadata": {
  "kernelspec": {
   "display_name": "Python 3",
   "language": "python",
   "name": "python3"
  },
  "language_info": {
   "codemirror_mode": {
    "name": "ipython",
    "version": 3
   },
   "file_extension": ".py",
   "mimetype": "text/x-python",
   "name": "python",
   "nbconvert_exporter": "python",
   "pygments_lexer": "ipython3",
   "version": "3.7.7"
  }
 },
 "nbformat": 4,
 "nbformat_minor": 4
}

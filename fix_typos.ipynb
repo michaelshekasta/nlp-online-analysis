{
 "cells": [
  {
   "cell_type": "code",
   "execution_count": 2,
   "metadata": {},
   "outputs": [
    {
     "data": {
      "text/plain": [
       "1"
      ]
     },
     "execution_count": 2,
     "metadata": {},
     "output_type": "execute_result"
    }
   ],
   "source": [
    "import nltk\n",
    "s1 = 'דיכאון'\n",
    "s2 = 'דכאון'\n",
    "nltk.edit_distance(s1, s2, transpositions=False)"
   ]
  },
  {
   "cell_type": "code",
   "execution_count": 24,
   "metadata": {},
   "outputs": [],
   "source": [
    "typo_word= 'ריאון'"
   ]
  },
  {
   "cell_type": "code",
   "execution_count": 4,
   "metadata": {},
   "outputs": [],
   "source": [
    "##Creating a list of stop words and adding custom stopwords\n",
    "import codecs\n",
    "with codecs.open('bgulex.utf8.hr', 'r', encoding='utf8') as f:\n",
    "    text = f.read()"
   ]
  },
  {
   "cell_type": "code",
   "execution_count": 6,
   "metadata": {},
   "outputs": [],
   "source": [
    "lines = text.split('\\n')"
   ]
  },
  {
   "cell_type": "code",
   "execution_count": 7,
   "metadata": {},
   "outputs": [],
   "source": [
    "words_in_heb_dict = set()\n",
    "for line in lines:\n",
    "    word = line.split(':')[0].split(' ')[0].strip().replace(' DEF','')\n",
    "    if len(word) > 0:\n",
    "        words_in_heb_dict.add(word)"
   ]
  },
  {
   "cell_type": "code",
   "execution_count": 19,
   "metadata": {},
   "outputs": [],
   "source": [
    "def find_closest_words(heb_dict,distance_word):\n",
    "    distance = -1\n",
    "    closest_words = list()\n",
    "    for word in heb_dict:\n",
    "        curr_distance = nltk.edit_distance(word, distance_word, transpositions=True)\n",
    "        if distance == curr_distance:\n",
    "            closest_words += [word]\n",
    "        if distance > curr_distance or distance == -1:\n",
    "            distance = curr_distance\n",
    "            closest_words = [word]\n",
    "    closest_words = sorted(closest_words, key=len)\n",
    "    return closest_words, distance"
   ]
  },
  {
   "cell_type": "code",
   "execution_count": null,
   "metadata": {},
   "outputs": [],
   "source": []
  },
  {
   "cell_type": "code",
   "execution_count": 25,
   "metadata": {},
   "outputs": [
    {
     "name": "stdout",
     "output_type": "stream",
     "text": [
      "CPU times: user 19.6 s, sys: 15.6 ms, total: 19.6 s\n",
      "Wall time: 20.2 s\n"
     ]
    },
    {
     "data": {
      "text/plain": [
       "(['ריסון',\n",
       "  'רימון',\n",
       "  'רינון',\n",
       "  'ריבון',\n",
       "  'ליאון',\n",
       "  'ריאתן',\n",
       "  'יראון',\n",
       "  'ניאון',\n",
       "  'ריטון',\n",
       "  'ראיון',\n",
       "  'ריאות',\n",
       "  'ריאיון'],\n",
       " 1)"
      ]
     },
     "execution_count": 25,
     "metadata": {},
     "output_type": "execute_result"
    }
   ],
   "source": [
    "%time find_closest_words(words_in_heb_dict, typo_word)"
   ]
  },
  {
   "cell_type": "code",
   "execution_count": null,
   "metadata": {},
   "outputs": [],
   "source": []
  }
 ],
 "metadata": {
  "kernelspec": {
   "display_name": "Python 3",
   "language": "python",
   "name": "python3"
  },
  "language_info": {
   "codemirror_mode": {
    "name": "ipython",
    "version": 3
   },
   "file_extension": ".py",
   "mimetype": "text/x-python",
   "name": "python",
   "nbconvert_exporter": "python",
   "pygments_lexer": "ipython3",
   "version": "3.7.7"
  }
 },
 "nbformat": 4,
 "nbformat_minor": 4
}

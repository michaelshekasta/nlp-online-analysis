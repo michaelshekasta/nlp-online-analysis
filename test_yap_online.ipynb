{
 "cells": [
  {
   "cell_type": "code",
   "execution_count": null,
   "metadata": {},
   "outputs": [],
   "source": [
    "import requests"
   ]
  },
  {
   "cell_type": "code",
   "execution_count": 2,
   "metadata": {},
   "outputs": [],
   "source": [
    "def yap_parser(text, number_tries=5):\n",
    "    import requests\n",
    "    with requests.Session() as s:\n",
    "        localhost_yap = \"http://localhost:8000/yap/heb/joint\"\n",
    "        data = '{{\"text\": \"{}  \"}}'.format(text).encode('utf-8')  # input string ends with two space characters\n",
    "        headers = {'content-type': 'application/json'}\n",
    "        response = s.get(url=localhost_yap, data=data, headers=headers)\n",
    "        json_response = response.json()\n",
    "    return json_response"
   ]
  },
  {
   "cell_type": "code",
   "execution_count": 14,
   "metadata": {},
   "outputs": [],
   "source": [
    "#text = \"\"\"חדר מיון, או בשם המקובל בישראל בשנים האחרונות המחלקה לרפואה דחופה הוא מחלקה בבית חולים המעניקה טיפול רפואי ראשוני לחולים עקב מחלה או תסמינים הדורשים טיפול מיידי\"\"\""
   ]
  },
  {
   "cell_type": "code",
   "execution_count": 27,
   "metadata": {},
   "outputs": [],
   "source": [
    "text = \"\"\"פגישה עם קצין מיון תתקיים אצל רוב החיילים במהלך שרשרת החיול\"\"\""
   ]
  },
  {
   "cell_type": "code",
   "execution_count": 32,
   "metadata": {},
   "outputs": [],
   "source": [
    "text = 'מיונים ממוחשבים לעתודה קינן שפי'"
   ]
  },
  {
   "cell_type": "code",
   "execution_count": 33,
   "metadata": {},
   "outputs": [],
   "source": [
    "dict_parser = yap_parser(text)"
   ]
  },
  {
   "cell_type": "code",
   "execution_count": 34,
   "metadata": {},
   "outputs": [],
   "source": [
    "md_lattice_text = dict_parser['md_lattice']"
   ]
  },
  {
   "cell_type": "code",
   "execution_count": 35,
   "metadata": {},
   "outputs": [
    {
     "name": "stdout",
     "output_type": "stream",
     "text": [
      "['0', '1', 'מ', 'מ', 'PREPOSITION', 'PREPOSITION', '_', '1']\n",
      "['1', '2', 'יונים', 'יון', 'NN', 'NN', 'gen=M|num=P', '1']\n",
      "['2', '3', 'ממוחשבים', 'ממוחשב', 'JJ', 'JJ', 'gen=M|num=P', '2']\n",
      "['3', '4', 'ל', 'ל', 'PREPOSITION', 'PREPOSITION', '_', '3']\n",
      "['4', '5', 'ה', 'ה', 'DEF', 'DEF', '_', '3']\n",
      "['5', '6', 'עתודה', 'עתודה', 'NN', 'NN', 'gen=F|num=S', '3']\n",
      "['6', '7', 'קינן', 'קינן', 'VB', 'VB', 'gen=M|num=S|per=3|tense=PAST', '4']\n",
      "['7', '8', 'שפי', 'שפי', 'RB', 'RB', '_', '5']\n",
      "['']\n",
      "['']\n"
     ]
    }
   ],
   "source": [
    "token_blocks = md_lattice_text.split('\\n')\n",
    "for token_block in token_blocks:\n",
    "    token_block_parts = token_block.split('\\t')\n",
    "    print(token_block_parts)"
   ]
  },
  {
   "cell_type": "code",
   "execution_count": null,
   "metadata": {},
   "outputs": [],
   "source": [
    "def get_tokenized_from_md_lattice(md_lattice_text,use_lemma=True,keep_only_NN=False):\n",
    "    tokens = list()\n",
    "    token_blocks = md_lattice_text.split('\\n')\n",
    "    for token_block in token_blocks:\n",
    "        token_block_parts = token_block.split('\\t')\n",
    "        if len(token_block_parts) > 2:\n",
    "            if keep_only_NN and token_block_parts[4] != 'NN':\n",
    "                continue\n",
    "            if use_lemma:\n",
    "                tokens.append(token_block_parts[2])\n",
    "            else:\n",
    "                tokens.append(token_block_parts[3])\n",
    "    return tokens"
   ]
  },
  {
   "cell_type": "code",
   "execution_count": null,
   "metadata": {},
   "outputs": [],
   "source": [
    "mdict_parser[1]"
   ]
  }
 ],
 "metadata": {
  "kernelspec": {
   "display_name": "Python 3",
   "language": "python",
   "name": "python3"
  },
  "language_info": {
   "codemirror_mode": {
    "name": "ipython",
    "version": 3
   },
   "file_extension": ".py",
   "mimetype": "text/x-python",
   "name": "python",
   "nbconvert_exporter": "python",
   "pygments_lexer": "ipython3",
   "version": "3.7.7"
  }
 },
 "nbformat": 4,
 "nbformat_minor": 4
}

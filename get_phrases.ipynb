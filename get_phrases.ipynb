{
 "cells": [
  {
   "cell_type": "code",
   "execution_count": 21,
   "metadata": {},
   "outputs": [],
   "source": [
    "import pandas as pd\n",
    "import pickle\n",
    "from gensim.models import Phrases\n",
    "import re"
   ]
  },
  {
   "cell_type": "code",
   "execution_count": 22,
   "metadata": {},
   "outputs": [],
   "source": [
    "file_type = 'thread'\n",
    "field_name = 'title'"
   ]
  },
  {
   "cell_type": "code",
   "execution_count": 23,
   "metadata": {},
   "outputs": [],
   "source": [
    "pickle_file = open(f'{file_type}_{field_name}_token_lists.pickle', \"rb\" )\n",
    "corpus = pickle.load( pickle_file )\n",
    "pickle_file.close()"
   ]
  },
  {
   "cell_type": "code",
   "execution_count": 24,
   "metadata": {},
   "outputs": [],
   "source": [
    "clean_corpus = list()\n",
    "for document in corpus:\n",
    "    clean_document = list()\n",
    "    for word in document:\n",
    "        if len(word) > 1:\n",
    "            clean_document.append(re.sub(r\"[\\?|!|\\.|,|:|_|\\(|\\)]\", '', word))\n",
    "    clean_corpus.append(clean_document)\n",
    "corpus = clean_corpus"
   ]
  },
  {
   "cell_type": "code",
   "execution_count": 53,
   "metadata": {},
   "outputs": [],
   "source": [
    "min_count = 25\n",
    "threshold = 50\n",
    "fix_parameter_values = False"
   ]
  },
  {
   "cell_type": "raw",
   "metadata": {},
   "source": [
    "from gensim.models import Phrases\n",
    "bigrams_ = set()\n",
    "trigrams_ = set()\n",
    "fourgrams_ = set()\n",
    "fivegram_ = set()\n",
    "bigram = Phrases(corpus, min_count=min_count, threshold=threshold)\n",
    "trigram = Phrases(bigram[corpus], min_count=min_count, threshold=threshold, delimiter=b'_')\n",
    "fourgram = Phrases(trigram[corpus], min_count=min_count, threshold=threshold, delimiter=b'_')\n",
    "fivegram = Phrases(fourgram[corpus], min_count=min_count, threshold=threshold, delimiter=b'_')\n",
    "for sent in corpus:\n",
    "    bigrams_ = bigrams_.union({b for b in bigram[sent] if b.count('_') == 1})\n",
    "    trigrams_ = trigrams_.union({t for t in trigram[bigram[sent]] if t.count('_') == 2})\n",
    "    fourgrams_ = fourgrams_.union({t for t in fourgram[trigram[bigram[sent]]] if t.count('_') == 2})"
   ]
  },
  {
   "cell_type": "code",
   "execution_count": 54,
   "metadata": {},
   "outputs": [],
   "source": [
    "def find_value_in_nested_loop(ngram,prev_gram_models,sent,n):\n",
    "    assert n > 1\n",
    "    value = None\n",
    "    for i in range(n-2):\n",
    "        n_gram_model = prev_gram_models[i]\n",
    "        if i == 0:\n",
    "            value = n_gram_model[sent]\n",
    "        else:\n",
    "            value = n_gram_model[value]\n",
    "    return value"
   ]
  },
  {
   "cell_type": "code",
   "execution_count": 55,
   "metadata": {},
   "outputs": [],
   "source": [
    "def get_phrases_ngram(corpus, min_count, threshold,fix_parameter_values=fix_parameter_values):\n",
    "    has_more_pharses = True\n",
    "    n = 2\n",
    "    prev_gram = []\n",
    "    all_phrases = set()\n",
    "    while has_more_pharses:\n",
    "        curr_phrases = set()\n",
    "        if n == 2:\n",
    "            ngram = Phrases(corpus, min_count=min_count, threshold=threshold)\n",
    "        else:\n",
    "            ngram = Phrases(find_value_in_nested_loop(ngram,prev_gram,corpus,n), min_count=min_count, threshold=threshold)\n",
    "        for sent in corpus:\n",
    "            if n == 2:\n",
    "                curr_phrases = curr_phrases.union({b for b in ngram[sent] if b.count('_') == 1})\n",
    "            else:\n",
    "                curr_phrases = curr_phrases.union({t for t in find_value_in_nested_loop(ngram,prev_gram,sent,n) if t.count('_') == n})\n",
    "        n += 1\n",
    "        prev_gram.append(ngram)\n",
    "        all_phrases = all_phrases.union(curr_phrases)\n",
    "        has_more_pharses = len(curr_phrases) > 0\n",
    "        if not fix_parameter_values:\n",
    "            min_count = max(min_count/2,1)\n",
    "            threshold = max(threshold/2,1)\n",
    "    print(f'the biggest n is {n-1}')\n",
    "    return all_phrases"
   ]
  },
  {
   "cell_type": "code",
   "execution_count": 56,
   "metadata": {},
   "outputs": [
    {
     "name": "stdout",
     "output_type": "stream",
     "text": [
      "the biggest n is 3\n"
     ]
    }
   ],
   "source": [
    "phrases = get_phrases_ngram(corpus, min_count, threshold, fix_parameter_values)\n",
    "f = open('phrases.txt','w')\n",
    "for phrase in phrases:\n",
    "    f.write(f'{phrase}\\n')\n",
    "f.close()"
   ]
  },
  {
   "cell_type": "code",
   "execution_count": null,
   "metadata": {},
   "outputs": [],
   "source": []
  }
 ],
 "metadata": {
  "kernelspec": {
   "display_name": "Python 3",
   "language": "python",
   "name": "python3"
  },
  "language_info": {
   "codemirror_mode": {
    "name": "ipython",
    "version": 3
   },
   "file_extension": ".py",
   "mimetype": "text/x-python",
   "name": "python",
   "nbconvert_exporter": "python",
   "pygments_lexer": "ipython3",
   "version": "3.7.7"
  }
 },
 "nbformat": 4,
 "nbformat_minor": 4
}
